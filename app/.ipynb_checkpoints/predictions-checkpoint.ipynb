{
 "cells": [
  {
   "cell_type": "code",
   "execution_count": 1,
   "id": "e21f01b9-a045-4ed9-b56e-0df6a39cb81d",
   "metadata": {},
   "outputs": [
    {
     "name": "stdout",
     "output_type": "stream",
     "text": [
      "Applied providers: ['CPUExecutionProvider'], with options: {'CPUExecutionProvider': {}}\n",
      "find model: insightface_model\\models\\buffalo_sc\\det_500m.onnx detection [1, 3, '?', '?'] 127.5 128.0\n",
      "Applied providers: ['CPUExecutionProvider'], with options: {'CPUExecutionProvider': {}}\n",
      "find model: insightface_model\\models\\buffalo_sc\\w600k_mbf.onnx recognition ['None', 3, 112, 112] 127.5 127.5\n",
      "set det-size: (640, 640)\n"
     ]
    }
   ],
   "source": [
    "import face_rec"
   ]
  },
  {
   "cell_type": "code",
   "execution_count": 2,
   "id": "56e7428a-f9ab-4ad0-a746-aecef7e08323",
   "metadata": {},
   "outputs": [
    {
     "data": {
      "text/plain": [
       "True"
      ]
     },
     "execution_count": 2,
     "metadata": {},
     "output_type": "execute_result"
    }
   ],
   "source": [
    "face_rec.r.ping()"
   ]
  },
  {
   "cell_type": "code",
   "execution_count": 3,
   "id": "e631c982-d930-478c-8e2c-23a55be95d68",
   "metadata": {},
   "outputs": [],
   "source": [
    "import pandas as pd\n",
    "import numpy as np\n",
    "import cv2"
   ]
  },
  {
   "cell_type": "code",
   "execution_count": 4,
   "id": "832a8fd1-7d3f-46c1-aee0-e95ad1e8135e",
   "metadata": {},
   "outputs": [
    {
     "data": {
      "text/html": [
       "<div>\n",
       "<style scoped>\n",
       "    .dataframe tbody tr th:only-of-type {\n",
       "        vertical-align: middle;\n",
       "    }\n",
       "\n",
       "    .dataframe tbody tr th {\n",
       "        vertical-align: top;\n",
       "    }\n",
       "\n",
       "    .dataframe thead th {\n",
       "        text-align: right;\n",
       "    }\n",
       "</style>\n",
       "<table border=\"1\" class=\"dataframe\">\n",
       "  <thead>\n",
       "    <tr style=\"text-align: right;\">\n",
       "      <th></th>\n",
       "      <th>name_role</th>\n",
       "      <th>facial_features</th>\n",
       "      <th>name</th>\n",
       "      <th>role</th>\n",
       "    </tr>\n",
       "  </thead>\n",
       "  <tbody>\n",
       "    <tr>\n",
       "      <th>0</th>\n",
       "      <td>Rob@Student</td>\n",
       "      <td>[-1.1936102, 0.09637058, 0.1618901, -0.2628968...</td>\n",
       "      <td>Rob</td>\n",
       "      <td>Student</td>\n",
       "    </tr>\n",
       "    <tr>\n",
       "      <th>1</th>\n",
       "      <td>Athif@Student</td>\n",
       "      <td>[0.61909217, 0.55488795, 0.06968728, 0.8338836...</td>\n",
       "      <td>Athif</td>\n",
       "      <td>Student</td>\n",
       "    </tr>\n",
       "    <tr>\n",
       "      <th>2</th>\n",
       "      <td>Joe@Student</td>\n",
       "      <td>[-0.73383904, -1.1926562, 0.16253585, -1.23318...</td>\n",
       "      <td>Joe</td>\n",
       "      <td>Student</td>\n",
       "    </tr>\n",
       "    <tr>\n",
       "      <th>3</th>\n",
       "      <td>Jon@Student</td>\n",
       "      <td>[0.013050548, -0.28796571, 0.49172014, 0.22333...</td>\n",
       "      <td>Jon</td>\n",
       "      <td>Student</td>\n",
       "    </tr>\n",
       "    <tr>\n",
       "      <th>4</th>\n",
       "      <td>Martin@Teacher</td>\n",
       "      <td>[0.4679354, -0.67061454, 0.07022456, -0.941410...</td>\n",
       "      <td>Martin</td>\n",
       "      <td>Teacher</td>\n",
       "    </tr>\n",
       "    <tr>\n",
       "      <th>5</th>\n",
       "      <td>Tyrion@Teacher</td>\n",
       "      <td>[-0.57296205, -0.48193663, -0.5918181, -0.2621...</td>\n",
       "      <td>Tyrion</td>\n",
       "      <td>Teacher</td>\n",
       "    </tr>\n",
       "  </tbody>\n",
       "</table>\n",
       "</div>"
      ],
      "text/plain": [
       "        name_role                                    facial_features    name  \\\n",
       "0     Rob@Student  [-1.1936102, 0.09637058, 0.1618901, -0.2628968...     Rob   \n",
       "1   Athif@Student  [0.61909217, 0.55488795, 0.06968728, 0.8338836...   Athif   \n",
       "2     Joe@Student  [-0.73383904, -1.1926562, 0.16253585, -1.23318...     Joe   \n",
       "3     Jon@Student  [0.013050548, -0.28796571, 0.49172014, 0.22333...     Jon   \n",
       "4  Martin@Teacher  [0.4679354, -0.67061454, 0.07022456, -0.941410...  Martin   \n",
       "5  Tyrion@Teacher  [-0.57296205, -0.48193663, -0.5918181, -0.2621...  Tyrion   \n",
       "\n",
       "      role  \n",
       "0  Student  \n",
       "1  Student  \n",
       "2  Student  \n",
       "3  Student  \n",
       "4  Teacher  \n",
       "5  Teacher  "
      ]
     },
     "execution_count": 4,
     "metadata": {},
     "output_type": "execute_result"
    }
   ],
   "source": [
    "retrive_dict = face_rec.r.hgetall(\"academy:register\")\n",
    "retrive_series = pd.Series(retrive_dict)\n",
    "retrive_series = retrive_series.apply(lambda x: np.frombuffer(x, dtype=np.float32))\n",
    "index = retrive_series.index\n",
    "index = list(map(lambda x:x.decode(), index))\n",
    "retrive_series.index = index\n",
    "retrive_df = retrive_series.to_frame().reset_index()\n",
    "retrive_df.columns = ([\"name_role\", \"facial_features\"])\n",
    "retrive_df[[\"name\", \"role\"]] = retrive_df[\"name_role\"].apply(lambda x: x.split(\"@\")).apply(pd.Series)\n",
    "retrive_df"
   ]
  },
  {
   "cell_type": "code",
   "execution_count": 7,
   "id": "9c1eab4a-50d8-4df6-aecf-dd5b9e3de4fe",
   "metadata": {},
   "outputs": [],
   "source": [
    "cap = cv2.VideoCapture(0)\n",
    "\n",
    "while True:\n",
    "    ret, frame = cap.read()\n",
    "    if ret == False:\n",
    "        break\n",
    "\n",
    "    pred_frame = face_rec.face_prediction(frame, retrive_df, \"facial_features\")\n",
    "    # cv2.imshow(\"frame\", frame)\n",
    "    cv2.imshow(\"prediction\", pred_frame)\n",
    "    if cv2.waitKey(1) == 27:\n",
    "        break\n",
    "\n",
    "cv2.destroyAllWindows()\n",
    "cap.release()"
   ]
  },
  {
   "cell_type": "code",
   "execution_count": null,
   "id": "cd024fde-3252-412a-82ef-0be704400ec8",
   "metadata": {},
   "outputs": [],
   "source": []
  },
  {
   "cell_type": "code",
   "execution_count": null,
   "id": "45794456-ca55-4b42-9eae-d679b51c3638",
   "metadata": {},
   "outputs": [],
   "source": []
  },
  {
   "cell_type": "code",
   "execution_count": null,
   "id": "246c717e-8618-4169-8742-4fac028d5a8c",
   "metadata": {},
   "outputs": [],
   "source": []
  }
 ],
 "metadata": {
  "kernelspec": {
   "display_name": "Python 3 (ipykernel)",
   "language": "python",
   "name": "python3"
  },
  "language_info": {
   "codemirror_mode": {
    "name": "ipython",
    "version": 3
   },
   "file_extension": ".py",
   "mimetype": "text/x-python",
   "name": "python",
   "nbconvert_exporter": "python",
   "pygments_lexer": "ipython3",
   "version": "3.11.7"
  }
 },
 "nbformat": 4,
 "nbformat_minor": 5
}
