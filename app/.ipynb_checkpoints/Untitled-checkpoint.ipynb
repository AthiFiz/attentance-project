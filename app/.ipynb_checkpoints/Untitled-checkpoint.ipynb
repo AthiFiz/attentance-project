{
 "cells": [
  {
   "cell_type": "code",
   "execution_count": 3,
   "id": "158e7522-1b3f-456a-8fac-db09a9642ddf",
   "metadata": {},
   "outputs": [],
   "source": [
    "import os\n",
    "import cv2\n",
    "import numpy as np\n",
    "import pandas as pd\n",
    "\n",
    "from insightface.app import FaceAnalysis"
   ]
  },
  {
   "cell_type": "code",
   "execution_count": 4,
   "id": "26c44096-584a-4724-9f92-9def0cf90e04",
   "metadata": {},
   "outputs": [
    {
     "name": "stdout",
     "output_type": "stream",
     "text": [
      "download_path: ../app/insightfce_model/buffalo_sc/models/buffalo_sc\\models\\buffalo_sc\n",
      "Downloading ../app/insightfce_model/buffalo_sc/models/buffalo_sc\\models\\buffalo_sc.zip from https://github.com/deepinsight/insightface/releases/download/v0.7/buffalo_sc.zip...\n"
     ]
    },
    {
     "name": "stderr",
     "output_type": "stream",
     "text": [
      "100%|██████████████████████████████████████████████████████████████████████████████████████████████████████████| 14619/14619 [00:23<00:00, 613.50KB/s]\n",
      "c:\\Users\\Athif\\OneDrive\\Desktop\\attendance-project\\.venv\\Lib\\site-packages\\onnxruntime\\capi\\onnxruntime_inference_collection.py:69: UserWarning: Specified provider 'CPUExecutionProviders' is not in available provider names.Available providers: 'AzureExecutionProvider, CPUExecutionProvider'\n",
      "  warnings.warn(\n"
     ]
    },
    {
     "name": "stdout",
     "output_type": "stream",
     "text": [
      "EP Error Unknown Provider Type: CPUExecutionProviders when using ['CPUExecutionProviders']\n",
      "Falling back to ['CPUExecutionProvider'] and retrying.\n",
      "Applied providers: ['CPUExecutionProvider'], with options: {'CPUExecutionProvider': {}}\n",
      "find model: ../app/insightfce_model/buffalo_sc/models/buffalo_sc\\models\\buffalo_sc\\det_500m.onnx detection [1, 3, '?', '?'] 127.5 128.0\n",
      "EP Error Unknown Provider Type: CPUExecutionProviders when using ['CPUExecutionProviders']\n",
      "Falling back to ['CPUExecutionProvider'] and retrying.\n",
      "Applied providers: ['CPUExecutionProvider'], with options: {'CPUExecutionProvider': {}}\n",
      "find model: ../app/insightfce_model/buffalo_sc/models/buffalo_sc\\models\\buffalo_sc\\w600k_mbf.onnx recognition ['None', 3, 112, 112] 127.5 127.5\n",
      "set det-size: (640, 640)\n"
     ]
    }
   ],
   "source": [
    "app = FaceAnalysis(name=\"buffalo_sc\", \n",
    "                   root=\"\"\n",
    "                   providers=[\"CPUExecutionProviders\"])\n",
    "\n",
    "app.prepare(ctx_id=0, det_size=(640, 640), det_thresh=0.5)"
   ]
  },
  {
   "cell_type": "code",
   "execution_count": 5,
   "id": "ef010b63-e28e-4774-a429-28f18ce17ae3",
   "metadata": {},
   "outputs": [
    {
     "data": {
      "text/plain": [
       "<insightface.app.face_analysis.FaceAnalysis at 0x2a6ab2d3cd0>"
      ]
     },
     "execution_count": 5,
     "metadata": {},
     "output_type": "execute_result"
    }
   ],
   "source": [
    "app"
   ]
  },
  {
   "cell_type": "code",
   "execution_count": null,
   "id": "91e2c0d4-5d6b-4763-b725-0f444e4aa853",
   "metadata": {},
   "outputs": [],
   "source": []
  }
 ],
 "metadata": {
  "kernelspec": {
   "display_name": "Python 3 (ipykernel)",
   "language": "python",
   "name": "python3"
  },
  "language_info": {
   "codemirror_mode": {
    "name": "ipython",
    "version": 3
   },
   "file_extension": ".py",
   "mimetype": "text/x-python",
   "name": "python",
   "nbconvert_exporter": "python",
   "pygments_lexer": "ipython3",
   "version": "3.11.7"
  }
 },
 "nbformat": 4,
 "nbformat_minor": 5
}
