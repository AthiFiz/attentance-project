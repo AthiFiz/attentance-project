{
 "cells": [
  {
   "cell_type": "code",
   "execution_count": 1,
   "id": "05c6876f-6092-4f44-b209-34bd58187f11",
   "metadata": {},
   "outputs": [],
   "source": [
    "import redis"
   ]
  },
  {
   "cell_type": "code",
   "execution_count": 2,
   "id": "ea126cb6-7155-47e4-b555-ab017f23bb6a",
   "metadata": {},
   "outputs": [],
   "source": [
    "r = redis.Redis(\n",
    "    host = \"redis-13392.c325.us-east-1-4.ec2.cloud.redislabs.com\",\n",
    "    port = \"13392\",\n",
    "    password = \"zzq1ZvmrXn80N8aeJwvaXl7PjNh6BTQf\"\n",
    ")"
   ]
  },
  {
   "cell_type": "code",
   "execution_count": 3,
   "id": "64f395c5-41c7-466f-ab6d-58f1e8d3938f",
   "metadata": {},
   "outputs": [
    {
     "data": {
      "text/plain": [
       "True"
      ]
     },
     "execution_count": 3,
     "metadata": {},
     "output_type": "execute_result"
    }
   ],
   "source": [
    "r.set(name=\"ze\", value=\"ke\")"
   ]
  },
  {
   "cell_type": "code",
   "execution_count": 6,
   "id": "5f0918c1",
   "metadata": {},
   "outputs": [
    {
     "data": {
      "text/plain": [
       "0"
      ]
     },
     "execution_count": 6,
     "metadata": {},
     "output_type": "execute_result"
    }
   ],
   "source": [
    "r.delete(\"ze\")"
   ]
  },
  {
   "cell_type": "code",
   "execution_count": 7,
   "id": "0967f78d-6eb6-49f2-a328-f23d23afb1a5",
   "metadata": {},
   "outputs": [],
   "source": [
    "r.get(name=\"ze\")"
   ]
  },
  {
   "cell_type": "code",
   "execution_count": 8,
   "id": "30bb0c94-8011-48f9-ba74-c24736a10a45",
   "metadata": {},
   "outputs": [
    {
     "data": {
      "text/plain": [
       "[b'books:2', b'academy:register', b'books:1', b'order']"
      ]
     },
     "execution_count": 8,
     "metadata": {},
     "output_type": "execute_result"
    }
   ],
   "source": [
    "r.keys()"
   ]
  },
  {
   "cell_type": "code",
   "execution_count": null,
   "id": "bf362822",
   "metadata": {},
   "outputs": [],
   "source": []
  }
 ],
 "metadata": {
  "kernelspec": {
   "display_name": "Python 3 (ipykernel)",
   "language": "python",
   "name": "python3"
  },
  "language_info": {
   "codemirror_mode": {
    "name": "ipython",
    "version": 3
   },
   "file_extension": ".py",
   "mimetype": "text/x-python",
   "name": "python",
   "nbconvert_exporter": "python",
   "pygments_lexer": "ipython3",
   "version": "3.11.7"
  }
 },
 "nbformat": 4,
 "nbformat_minor": 5
}
