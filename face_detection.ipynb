{
 "cells": [
  {
   "cell_type": "code",
   "execution_count": 1,
   "id": "8755e496-0d5e-422a-9cd3-83d9fd974ab8",
   "metadata": {},
   "outputs": [],
   "source": [
    "import numpy as np\n",
    "import cv2"
   ]
  },
  {
   "cell_type": "code",
   "execution_count": 11,
   "id": "eb2744fe-0704-4799-bd6c-cb2412caff86",
   "metadata": {},
   "outputs": [],
   "source": [
    "img = cv2.imread(\"./people.jfif\")\n",
    "\n",
    "cv2.imshow(\"people\", img)\n",
    "cv2.waitKey(0)\n",
    "cv2.destroyAllWindows()"
   ]
  },
  {
   "cell_type": "code",
   "execution_count": 7,
   "id": "b53244ad-6915-4d5a-9471-250e12b7d236",
   "metadata": {},
   "outputs": [],
   "source": [
    "face_cascade = cv2.CascadeClassifier(\"./model/haarcascade_frontalface_default.xml\")"
   ]
  },
  {
   "cell_type": "code",
   "execution_count": 27,
   "id": "8758a4b3-6f56-4451-a6ea-28142233748f",
   "metadata": {},
   "outputs": [],
   "source": [
    "image = img.copy()\n",
    "\n",
    "# 1. Convert image to grayscale\n",
    "gray = cv2.cvtColor(img, cv2.COLOR_BGR2GRAY)\n",
    "\n",
    "# 2. Apply gray scale image to cascade classifier\n",
    "box, detections = face_cascade.detectMultiScale2(gray, minNeighbors=8)"
   ]
  },
  {
   "cell_type": "code",
   "execution_count": 22,
   "id": "1957984d-c86e-4d91-b433-5c37dc943f06",
   "metadata": {},
   "outputs": [
    {
     "data": {
      "text/plain": [
       "array([[232,  20,  28,  28],\n",
       "       [ 45,  22,  29,  29],\n",
       "       [101,  30,  28,  28],\n",
       "       [174,  35,  28,  28]])"
      ]
     },
     "execution_count": 22,
     "metadata": {},
     "output_type": "execute_result"
    }
   ],
   "source": [
    "box"
   ]
  },
  {
   "cell_type": "code",
   "execution_count": 23,
   "id": "c65a6a8c-8491-45bc-9128-b254243d1c7b",
   "metadata": {},
   "outputs": [
    {
     "data": {
      "text/plain": [
       "array([16, 18,  9, 22])"
      ]
     },
     "execution_count": 23,
     "metadata": {},
     "output_type": "execute_result"
    }
   ],
   "source": [
    "detections"
   ]
  },
  {
   "cell_type": "code",
   "execution_count": 29,
   "id": "5bd52edb-9589-4d74-a94f-21736325cf4e",
   "metadata": {},
   "outputs": [],
   "source": [
    "# 3. Draw bounding box\n",
    "for x,y,w,h in box:\n",
    "    cv2.rectangle(image, (x,y), (x+w, y+h), (0,255,0), 1)\n",
    "\n",
    "cv2.imshow(\"face\", image)\n",
    "cv2.waitKey(0)\n",
    "cv2.destroyAllWindows()"
   ]
  },
  {
   "cell_type": "markdown",
   "id": "14228d4e-b11f-490a-a967-57bc2aca09a4",
   "metadata": {},
   "source": [
    "# Functionalizing the detection "
   ]
  },
  {
   "cell_type": "code",
   "execution_count": 31,
   "id": "29e82630-240e-4212-8950-5df234ee8186",
   "metadata": {},
   "outputs": [],
   "source": [
    "def face_detection(img):\n",
    "\n",
    "    image = img.copy()\n",
    "    gray = cv2.cvtColor(img, cv2.COLOR_BGR2GRAY)\n",
    "    box, detections = face_cascade.detectMultiScale2(gray, minNeighbors=8)\n",
    "    \n",
    "    for x,y,w,h in box:\n",
    "        cv2.rectangle(image, (x,y), (x+w, y+h), (0,255,0), 1)\n",
    "\n",
    "    return image"
   ]
  },
  {
   "cell_type": "code",
   "execution_count": 32,
   "id": "3d42496e-9f53-4f00-bd81-17aa2e86054d",
   "metadata": {},
   "outputs": [],
   "source": [
    "def display(window, img):\n",
    "    cv2.imshow(window, img)\n",
    "    cv2.waitKey(0)\n",
    "    cv2.destroyAllWindows()"
   ]
  },
  {
   "cell_type": "code",
   "execution_count": 34,
   "id": "9cbf2b4e-713c-4de7-b9a1-817dffb3651a",
   "metadata": {},
   "outputs": [],
   "source": [
    "img_detect = face_detection(img)\n",
    "display(\"faces\", img_detect)"
   ]
  },
  {
   "cell_type": "markdown",
   "id": "e8d0b058-ee32-4653-b083-d1ed22fdb3d4",
   "metadata": {},
   "source": [
    "# Real Time Face Detection (Video)"
   ]
  },
  {
   "cell_type": "code",
   "execution_count": 36,
   "id": "0287eac5-f76c-408a-9b82-e2d94efbfa83",
   "metadata": {},
   "outputs": [],
   "source": [
    "cap = cv2.VideoCapture(0)\n",
    "\n",
    "face_cascade = cv2.CascadeClassifier(\"./model/haarcascade_frontalface_default.xml\")\n",
    "\n",
    "while True:\n",
    "    ret, frame = cap.read()\n",
    "    if ret == False:\n",
    "        break\n",
    "\n",
    "    img_detect = face_detection(frame)\n",
    "    cv2.imshow(\"Real time face detection\", img_detect)\n",
    "    if cv2.waitKey(1) == ord(\"a\"):\n",
    "        break\n",
    "\n",
    "cap.release()\n",
    "cv2.destroyAllWindows()"
   ]
  },
  {
   "cell_type": "code",
   "execution_count": null,
   "id": "b8edeffc-feff-41d3-bb93-75a43abdb45b",
   "metadata": {},
   "outputs": [],
   "source": []
  }
 ],
 "metadata": {
  "kernelspec": {
   "display_name": "Python 3 (ipykernel)",
   "language": "python",
   "name": "python3"
  },
  "language_info": {
   "codemirror_mode": {
    "name": "ipython",
    "version": 3
   },
   "file_extension": ".py",
   "mimetype": "text/x-python",
   "name": "python",
   "nbconvert_exporter": "python",
   "pygments_lexer": "ipython3",
   "version": "3.11.7"
  }
 },
 "nbformat": 4,
 "nbformat_minor": 5
}
